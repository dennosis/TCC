{
  "nbformat": 4,
  "nbformat_minor": 0,
  "metadata": {
    "colab": {
      "name": "Untitled3.ipynb",
      "provenance": [],
      "include_colab_link": true
    },
    "kernelspec": {
      "name": "python2",
      "display_name": "Python 2"
    },
    "accelerator": "GPU"
  },
  "cells": [
    {
      "cell_type": "markdown",
      "metadata": {
        "id": "view-in-github",
        "colab_type": "text"
      },
      "source": [
        "<a href=\"https://colab.research.google.com/github/dennosis/attngan/blob/master/attngan.ipynb\" target=\"_parent\"><img src=\"https://colab.research.google.com/assets/colab-badge.svg\" alt=\"Open In Colab\"/></a>"
      ]
    },
    {
      "cell_type": "code",
      "metadata": {
        "id": "ZlWNjl0FBbjJ",
        "colab_type": "code",
        "colab": {}
      },
      "source": [
        "!python --version\n",
        "# python 2.7 with GPU\n",
        "# after 2020.1 you'll have to download python 2.7 on your own"
      ],
      "execution_count": null,
      "outputs": []
    },
    {
      "cell_type": "code",
      "metadata": {
        "id": "B2KrPCFkDgUG",
        "colab_type": "code",
        "colab": {}
      },
      "source": [
        "!git clone https://github.com/taoxugit/AttnGAN.git"
      ],
      "execution_count": null,
      "outputs": []
    },
    {
      "cell_type": "code",
      "metadata": {
        "id": "KKBOTY2ZDl3B",
        "colab_type": "code",
        "colab": {}
      },
      "source": [
        "!pip install python-dateutil\n",
        "!pip install easydict\n",
        "!pip install pandas\n",
        "!pip install torchfile\n",
        "!pip install nltk\n",
        "!pip install scikit-image"
      ],
      "execution_count": null,
      "outputs": []
    },
    {
      "cell_type": "code",
      "metadata": {
        "id": "r37LCXpJDu6N",
        "colab_type": "code",
        "colab": {}
      },
      "source": [
        "%cd AttnGAN/DAMSMencoders/\n",
        "!wget --load-cookies /tmp/cookies.txt \"https://docs.google.com/uc?export=download&confirm=$(wget --quiet --save-cookies /tmp/cookies.txt --keep-session-cookies --no-check-certificate 'https://docs.google.com/uc?export=download&id=1GNUKjVeyWYBJ8hEU-yrfYQpDOkxEyP3V' -O- | sed -rn 's/.*confirm=([0-9A-Za-z_]+).*/\\1\\n/p')&id=1GNUKjVeyWYBJ8hEU-yrfYQpDOkxEyP3V\" -O bird.zip && rm -rf /tmp/cookies.txt\n",
        "!unzip bird.zip\n",
        "!wget --load-cookies /tmp/cookies.txt \"https://docs.google.com/uc?export=download&confirm=$(wget --quiet --save-cookies /tmp/cookies.txt --keep-session-cookies --no-check-certificate 'https://docs.google.com/uc?export=download&id=1zIrXCE9F6yfbEJIbNP5-YrEe2pZcPSGJ' -O- | sed -rn 's/.*confirm=([0-9A-Za-z_]+).*/\\1\\n/p')&id=1zIrXCE9F6yfbEJIbNP5-YrEe2pZcPSGJ\" -O coco.zip && rm -rf /tmp/cookies.txt\n",
        "!unzip coco.zip"
      ],
      "execution_count": null,
      "outputs": []
    },
    {
      "cell_type": "code",
      "metadata": {
        "id": "yRlDlWj4Fc2I",
        "colab_type": "code",
        "colab": {}
      },
      "source": [
        "%cd ../models/\n",
        "!wget --load-cookies /tmp/cookies.txt \"https://docs.google.com/uc?export=download&confirm=$(wget --quiet --save-cookies /tmp/cookies.txt --keep-session-cookies --no-check-certificate 'https://docs.google.com/uc?export=download&id=1lqNG75suOuR_8gjoEPYNp8VyT_ufPPig' -O- | sed -rn 's/.*confirm=([0-9A-Za-z_]+).*/\\1\\n/p')&id=1lqNG75suOuR_8gjoEPYNp8VyT_ufPPig\" -O bird_AttnGAN2.pth && rm -rf /tmp/cookies.txt\n",
        "!wget --load-cookies /tmp/cookies.txt \"https://docs.google.com/uc?export=download&confirm=$(wget --quiet --save-cookies /tmp/cookies.txt --keep-session-cookies --no-check-certificate 'https://docs.google.com/uc?export=download&id=1i9Xkg9nU74RAvkcqKE-rJYhjvzKAMnCi' -O- | sed -rn 's/.*confirm=([0-9A-Za-z_]+).*/\\1\\n/p')&id=1i9Xkg9nU74RAvkcqKE-rJYhjvzKAMnCi\" -O coco_AttnGAN2.pth && rm -rf /tmp/cookies.txt\n",
        "!wget --load-cookies /tmp/cookies.txt \"https://docs.google.com/uc?export=download&confirm=$(wget --quiet --save-cookies /tmp/cookies.txt --keep-session-cookies --no-check-certificate 'https://docs.google.com/uc?export=download&id=19TG0JUoXurxsmZLaJ82Yo6O0UJ6aDBpg' -O- | sed -rn 's/.*confirm=([0-9A-Za-z_]+).*/\\1\\n/p')&id=19TG0JUoXurxsmZLaJ82Yo6O0UJ6aDBpg\" -O bird_AttnDCGAN2.pth && rm -rf /tmp/cookies.txt"
      ],
      "execution_count": null,
      "outputs": []
    },
    {
      "cell_type": "code",
      "metadata": {
        "id": "q6LTwtdAHJB5",
        "colab_type": "code",
        "colab": {}
      },
      "source": [
        "%cd ../data/\n",
        "!wget --load-cookies /tmp/cookies.txt \"https://docs.google.com/uc?export=download&confirm=$(wget --quiet --save-cookies /tmp/cookies.txt --keep-session-cookies --no-check-certificate 'https://docs.google.com/uc?export=download&id=1O_LtUP9sch09QH3s_EBAgLEctBQ5JBSJ' -O- | sed -rn 's/.*confirm=([0-9A-Za-z_]+).*/\\1\\n/p')&id=1O_LtUP9sch09QH3s_EBAgLEctBQ5JBSJ\" -O birds.zip && rm -rf /tmp/cookies.txt\n",
        "!unzip birds.zip\n",
        "\n",
        "!wget --load-cookies /tmp/cookies.txt \"https://docs.google.com/uc?export=download&confirm=$(wget --quiet --save-cookies /tmp/cookies.txt --keep-session-cookies --no-check-certificate 'https://docs.google.com/uc?export=download&id=1rSnbIGNDGZeHlsUlLdahj0RJ9oo6lgH9' -O- | sed -rn 's/.*confirm=([0-9A-Za-z_]+).*/\\1\\n/p')&id=1rSnbIGNDGZeHlsUlLdahj0RJ9oo6lgH9\" -O coco.zip && rm -rf /tmp/cookies.txt\n",
        "!unzip coco.zip\n",
        "\n",
        "%cd ./birds/\n",
        "!unzip text.zip\n",
        "!wget http://www.vision.caltech.edu/visipedia-data/CUB-200-2011/CUB_200_2011.tgz\n",
        "!tar zxvf CUB_200_2011.tgz -C ./\n",
        "\n",
        "%cd ../coco/\n",
        "!wget http://cocodataset.org/#download\n",
        "# don't know what to download for test on coco dataset"
      ],
      "execution_count": null,
      "outputs": []
    },
    {
      "cell_type": "code",
      "metadata": {
        "id": "m5TwjkUoHnr5",
        "colab_type": "code",
        "colab": {
          "base_uri": "https://localhost:8080/",
          "height": 34
        },
        "outputId": "1a902154-3b0f-4696-f4c3-7b95daa64aab"
      },
      "source": [
        "%cd ../../code/"
      ],
      "execution_count": null,
      "outputs": [
        {
          "output_type": "stream",
          "text": [
            "/content/AttnGAN/code\n"
          ],
          "name": "stdout"
        }
      ]
    },
    {
      "cell_type": "code",
      "metadata": {
        "id": "02dyreRCF2uy",
        "colab_type": "code",
        "colab": {}
      },
      "source": [
        "# miscc/utils.py line35 should be 'fnt = ImageFont.load_default().font'\n",
        "# miscc/config.py set 'TRAIN.FLAG = False'\n",
        "!python main.py --cfg cfg/eval_bird.yml --gpu 0"
      ],
      "execution_count": null,
      "outputs": []
    },
    {
      "cell_type": "code",
      "metadata": {
        "id": "jltzdhV1UuKn",
        "colab_type": "code",
        "colab": {}
      },
      "source": [
        "!ls -ll"
      ],
      "execution_count": null,
      "outputs": []
    },
    {
      "cell_type": "code",
      "metadata": {
        "id": "6-bWBAN5U7O4",
        "colab_type": "code",
        "colab": {}
      },
      "source": [
        ""
      ],
      "execution_count": null,
      "outputs": []
    }
  ]
}